{
  "nbformat": 4,
  "nbformat_minor": 0,
  "metadata": {
    "colab": {
      "provenance": [],
      "authorship_tag": "ABX9TyN0gawiOtDOWrD+iYVKz0np",
      "include_colab_link": true
    },
    "kernelspec": {
      "name": "python3",
      "display_name": "Python 3"
    },
    "language_info": {
      "name": "python"
    },
    "accelerator": "GPU",
    "gpuClass": "standard"
  },
  "cells": [
    {
      "cell_type": "markdown",
      "metadata": {
        "id": "view-in-github",
        "colab_type": "text"
      },
      "source": [
        "<a href=\"https://colab.research.google.com/github/swaticraghav/word2vec/blob/main/word2vec_c_text8_dataset.ipynb\" target=\"_parent\"><img src=\"https://colab.research.google.com/assets/colab-badge.svg\" alt=\"Open In Colab\"/></a>"
      ]
    },
    {
      "cell_type": "code",
      "source": [
        "!nvcc --version"
      ],
      "metadata": {
        "colab": {
          "base_uri": "https://localhost:8080/"
        },
        "id": "CiJm3VwvMnFH",
        "outputId": "d1c9b397-e991-4e94-f4e4-ec7d53be27b5"
      },
      "execution_count": 1,
      "outputs": [
        {
          "output_type": "stream",
          "name": "stdout",
          "text": [
            "nvcc: NVIDIA (R) Cuda compiler driver\n",
            "Copyright (c) 2005-2022 NVIDIA Corporation\n",
            "Built on Tue_Mar__8_18:18:20_PST_2022\n",
            "Cuda compilation tools, release 11.6, V11.6.124\n",
            "Build cuda_11.6.r11.6/compiler.31057947_0\n"
          ]
        }
      ]
    },
    {
      "cell_type": "code",
      "source": [
        "!pip install git+https://github.com/andreinechaev/nvcc4jupyter.git"
      ],
      "metadata": {
        "colab": {
          "base_uri": "https://localhost:8080/"
        },
        "id": "eaWwoN_KM7hM",
        "outputId": "d423d496-b34f-4045-b716-de8a48823365"
      },
      "execution_count": 2,
      "outputs": [
        {
          "output_type": "stream",
          "name": "stdout",
          "text": [
            "Looking in indexes: https://pypi.org/simple, https://us-python.pkg.dev/colab-wheels/public/simple/\n",
            "Collecting git+https://github.com/andreinechaev/nvcc4jupyter.git\n",
            "  Cloning https://github.com/andreinechaev/nvcc4jupyter.git to /tmp/pip-req-build-tfma5f9y\n",
            "  Running command git clone --filter=blob:none --quiet https://github.com/andreinechaev/nvcc4jupyter.git /tmp/pip-req-build-tfma5f9y\n",
            "  Resolved https://github.com/andreinechaev/nvcc4jupyter.git to commit aac710a35f52bb78ab34d2e52517237941399eff\n",
            "  Preparing metadata (setup.py) ... \u001b[?25l\u001b[?25hdone\n",
            "Building wheels for collected packages: NVCCPlugin\n",
            "  Building wheel for NVCCPlugin (setup.py) ... \u001b[?25l\u001b[?25hdone\n",
            "  Created wheel for NVCCPlugin: filename=NVCCPlugin-0.0.2-py3-none-any.whl size=4304 sha256=68c93637c5552fbc7ae53ee5334ffb2fac98e02ce8027e9dda5b2030a59b2365\n",
            "  Stored in directory: /tmp/pip-ephem-wheel-cache-lwy0izvb/wheels/f3/08/cc/e2b5b0e1c92df07dbb50a6f024a68ce090f5e7b2316b41756d\n",
            "Successfully built NVCCPlugin\n",
            "Installing collected packages: NVCCPlugin\n",
            "Successfully installed NVCCPlugin-0.0.2\n"
          ]
        }
      ]
    },
    {
      "cell_type": "code",
      "source": [
        "%load_ext nvcc_plugin"
      ],
      "metadata": {
        "colab": {
          "base_uri": "https://localhost:8080/"
        },
        "id": "pCe0XuaSM_cK",
        "outputId": "f10a7a75-1efe-4a48-de87-2c2df57384b6"
      },
      "execution_count": 3,
      "outputs": [
        {
          "output_type": "stream",
          "name": "stdout",
          "text": [
            "created output directory at /content/src\n",
            "Out bin /content/result.out\n"
          ]
        }
      ]
    },
    {
      "cell_type": "code",
      "source": [
        "!bash /content/project_code/demo-word.sh"
      ],
      "metadata": {
        "colab": {
          "base_uri": "https://localhost:8080/"
        },
        "id": "TjRmlTjpY1JO",
        "outputId": "90208f6a-f949-481e-f59f-4d848f80a31e"
      },
      "execution_count": 31,
      "outputs": [
        {
          "output_type": "stream",
          "name": "stdout",
          "text": [
            "Enter word or sentence (EXIT to break): chinese river\n",
            "\n",
            "Word: chinese  Position in vocabulary: 472\n",
            "\n",
            "Word: river  Position in vocabulary: 382\n",
            "\n",
            "                                              Word       Cosine distance\n",
            "------------------------------------------------------------------------\n",
            "                                             hubei\t\t0.595133\n",
            "                                           sichuan\t\t0.571018\n",
            "                                           lipotes\t\t0.566433\n",
            "                                           yangtze\t\t0.566308\n",
            "                                            mekong\t\t0.563099\n",
            "                                            suzhou\t\t0.546294\n",
            "                                             jiang\t\t0.536684\n",
            "                                          hangzhou\t\t0.525691\n",
            "                                             hakka\t\t0.523427\n",
            "                                             wuhan\t\t0.523022\n",
            "                                         chongqing\t\t0.520497\n",
            "                                             guang\t\t0.514665\n",
            "                                        headwaters\t\t0.510050\n",
            "                                              prut\t\t0.505882\n",
            "                                             tonle\t\t0.504330\n",
            "                                         manchuria\t\t0.494616\n",
            "                                         guangzhou\t\t0.494143\n",
            "                                             talas\t\t0.493107\n",
            "                                           guangxi\t\t0.492110\n",
            "                                             china\t\t0.491789\n",
            "                                           zambezi\t\t0.488053\n",
            "                                             shing\t\t0.484995\n",
            "                                          jyutping\t\t0.484065\n",
            "                                            nistru\t\t0.481998\n",
            "                                             hunan\t\t0.481570\n",
            "                                         cantonese\t\t0.477293\n",
            "                                              beas\t\t0.475658\n",
            "                                           nanjing\t\t0.472187\n",
            "                                           qinghai\t\t0.472185\n",
            "                                              amur\t\t0.471456\n",
            "                                              tian\t\t0.469125\n",
            "                                               cai\t\t0.468886\n",
            "                                            fujian\t\t0.465098\n",
            "                                           laotian\t\t0.465068\n",
            "                                             tsing\t\t0.464697\n",
            "                                               fei\t\t0.464136\n",
            "                                               mun\t\t0.463868\n",
            "                                           jiangsu\t\t0.462543\n",
            "                                          mandarin\t\t0.460182\n",
            "                                           estuary\t\t0.458894\n",
            "Enter word or sentence (EXIT to break): ^C\n"
          ]
        }
      ]
    },
    {
      "cell_type": "code",
      "source": [
        "!gcc /content/project_code/word2vec.c -o /content/project_code/word2vec -lm -pthread"
      ],
      "metadata": {
        "id": "WSw7u1v8bVjD"
      },
      "execution_count": 21,
      "outputs": []
    },
    {
      "cell_type": "code",
      "source": [
        "!gcc /content/project_code/distance.c -o /content/project_code/distance -lm -pthread"
      ],
      "metadata": {
        "id": "9M468m45cVN_"
      },
      "execution_count": 22,
      "outputs": []
    }
  ]
}